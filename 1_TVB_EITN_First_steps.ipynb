{
 "cells": [
  {
   "cell_type": "markdown",
   "metadata": {},
   "source": [
    "<h1 align=\"center\"><font size=\"7\" face=\"arial\" color=\"#DC5A29\">First steps using TVB</font></h1>"
   ]
  },
  {
   "cell_type": "markdown",
   "metadata": {},
   "source": [
    "<h2 align=\"center\"><font size=\"5\" face=\"arial\">EITN Spring School in Computational Neuroscience, 4-13 March 2020</font></h2>"
   ]
  },
  {
   "cell_type": "markdown",
   "metadata": {},
   "source": [
    "<h1><font size=\"6\" face=\"arial\" color=\"#609BC4\">Context</font></h1>\n",
    "\n",
    "***\n",
    "\n",
    "<p><div style=\"text-align: justify\"><font size=\"4.5\" face=\"time roman\">A current topic in system neuroscience literature is the presence of brain activity in the absence of a task condition. These task-negative, spontaneous fluctuations occur in the so-called <b>rest state</b>, and a recurring theme of these fluctuations is that they have a network structure. Because TVB uses the structural connectivity of the brain as the backbone for simulating spontaneous activity, resting-state activity and its network structure is a prime candidate for modeling in TVB.</font></div></p>"
   ]
  },
  {
   "cell_type": "markdown",
   "metadata": {},
   "source": [
    "<h1><font size=\"6\" face=\"arial\" color=\"#609BC4\">Objectives</font></h1>\n",
    "\n",
    "***\n",
    "\n",
    "<p><div style=\"text-align: justify\"><font size=\"4.5\" face=\"time roman\">In this mini-project, we will:\n",
    "<br>\n",
    "<ul>\n",
    "    <li>Build a brain network model using subject-specific structural connectivity,</li> \n",
    "    <li>Simulate resting-state activity,</li>\n",
    "    <li>Characterize the resting-state activity by calculating the functional connectivity (FC),</li>\n",
    "    <li>Extract the resting-state networks (RSNs).</li>\n",
    "</ul></font></div></p>"
   ]
  },
  {
   "cell_type": "markdown",
   "metadata": {},
   "source": [
    "<h1><font size=\"6\" face=\"arial\" color=\"#609BC4\">How to do it with TVB?</font></h1> \n",
    "\n",
    "***\n",
    "\n",
    "<p><div style=\"text-align: justify\"><font size=\"4.5\" face=\"time roman\">In the first part of this tutorial, we presents the basic anatomy of a region simulation using The Virtual Brain's scripting interface.</font></p>"
   ]
  },
  {
   "cell_type": "markdown",
   "metadata": {},
   "source": [
    "<p><div style=\"text-align: justify\"><font size=\"4.5\" face=\"time roman\">The first thing we want to do is to import the modules we will need for a simulation.</font></div></p>"
   ]
  },
  {
   "cell_type": "code",
   "execution_count": null,
   "metadata": {
    "scrolled": true
   },
   "outputs": [],
   "source": [
    "import time as tm\n",
    "\n",
    "import numpy as np\n",
    "import matplotlib.pyplot as plt        \n",
    "import matplotlib.gridspec as gridspec \n",
    "\n",
    "# Import a bunch of stuff to ease command line usage\n",
    "from tvb.simulator.lab import *\n",
    "from tvb.simulator.plot.phase_plane_interactive import PhasePlaneInteractive\n",
    "\n",
    "%matplotlib notebook"
   ]
  },
  {
   "cell_type": "markdown",
   "metadata": {},
   "source": [
    "<h1><font size=\"6\" face=\"arial\" color=\"black\">1. Setting up the simulation</font></h1>"
   ]
  },
  {
   "cell_type": "markdown",
   "metadata": {},
   "source": [
    "<p><div style=\"text-align: justify\"><font size=\"4.5\" face=\"time roman\">A basic simulation of TVB consists of <b>5 main components</b>. Each of these components is an object within TVB:</font>"
   ]
  },
  {
   "cell_type": "markdown",
   "metadata": {},
   "source": [
    "- ## <font size=\"5\" face=\"arial\" color=\"black\"> Connectivity</font></h3>"
   ]
  },
  {
   "cell_type": "markdown",
   "metadata": {},
   "source": [
    "<p><div style=\"text-align: justify\"><font size=\"4.5\" face=\"time roman\">We start by loading and visualizing the structural connectivity matrix that represents the set of all existing connections between brain areas. Having loaded the default dataset, we can then alter the speed of signal propagation through the network:</font></div></p>"
   ]
  },
  {
   "cell_type": "code",
   "execution_count": null,
   "metadata": {},
   "outputs": [],
   "source": [
    "# Import the anatomical structural connectivity.\n",
    "conn = connectivity.Connectivity().from_file()      \n",
    "nregions = len(conn.region_labels)               # Number of regions\n",
    "conn.speed = np.array(np.inf)                    # Set the conduction speed\n",
    "conn.configure()\n",
    "\n",
    "sc = conn.weights"
   ]
  },
  {
   "cell_type": "code",
   "execution_count": null,
   "metadata": {
    "scrolled": false
   },
   "outputs": [],
   "source": [
    "# Visualization\n",
    "fig = plt.figure(figsize=(8, 4))\n",
    "fig.suptitle('TVB SC', fontsize=20)\n",
    "\n",
    "# Weights\n",
    "plt.subplot(121)\n",
    "plt.imshow(conn.weights, interpolation='nearest', aspect='equal', cmap='jet')\n",
    "plt.xticks(range(0, nregions), conn.region_labels, fontsize=7, rotation=90)\n",
    "plt.yticks(range(0, nregions), conn.region_labels, fontsize=7)\n",
    "cb = plt.colorbar(shrink=0.2)\n",
    "cb.set_label('Weights', fontsize=14)\n",
    "\n",
    "# Tracts lengths\n",
    "plt.subplot(122)\n",
    "plt.imshow(conn.tract_lengths, interpolation='nearest', aspect='equal', cmap='jet')\n",
    "plt.xticks(range(0, nregions), conn.region_labels, fontsize=7, rotation=90)\n",
    "plt.yticks(range(0, nregions), conn.region_labels, fontsize=7)\n",
    "cb = plt.colorbar(shrink=0.2)\n",
    "cb.set_label('Tract lenghts', fontsize=14)\n",
    "\n",
    "fig.tight_layout()\n",
    "\n",
    "plt.show()"
   ]
  },
  {
   "cell_type": "markdown",
   "metadata": {
    "collapsed": true
   },
   "source": [
    "- ## <font size=\"5\" face=\"arial\" color=\"black\"> Model</font>"
   ]
  },
  {
   "cell_type": "markdown",
   "metadata": {},
   "source": [
    "<p><div style=\"text-align: justify\"><font size=\"4.5\" face=\"time roman\">A set of differential equations describing the local neural dynamics. There are a number of predefined models available in TVB, as an example here we will use the <b>Generic 2-dimensional Oscillator</b> model:</font></div></p>\n",
    "\n",
    "\\begin{align}\n",
    "\\dot{V} &= d \\, \\tau (-f V^3 + e V^2 + g V + \\alpha W + \\gamma I), \\\\\n",
    "                \\dot{W} &= \\dfrac{d}{\\tau}\\,\\,(c V^2 + b V - \\beta W + a).\n",
    "\\end{align}"
   ]
  },
  {
   "cell_type": "markdown",
   "metadata": {},
   "source": [
    "<p><div style=\"text-align: justify\"><font size=\"4.5\" face=\"time roman\">\n",
    "    We can explore it using the <b>phase-plane</b> tool in TVB.\n",
    "</font></div></p>"
   ]
  },
  {
   "cell_type": "code",
   "execution_count": null,
   "metadata": {},
   "outputs": [],
   "source": [
    "# Create and launch the phase-plane tool\n",
    "g2d = models.Generic2dOscillator()                 # The model to investigate\n",
    "heunint = integrators.HeunDeterministic(dt=1.0)    # Integrator to use.\n",
    "                                                   # dt is the integration step\n",
    "\n",
    "ppi_fig = PhasePlaneInteractive(model=g2d, integrator=heunint)\n",
    "ppi_fig.show()\n",
    "\n",
    "# Try changing the default parameters to\n",
    "#    1) a = 3   (limit cycle)\n",
    "#    2) b = 1   (two stable and unstable fixed points)"
   ]
  },
  {
   "cell_type": "markdown",
   "metadata": {},
   "source": [
    "<p><div style=\"text-align: justify\"><font size=\"4.5\" face=\"time roman\">In the main central panel of the window, you can see the phase-plane for the model, including arrows representing the vector field and coloured lines representing any nullclines present in this plane. Clicking on the phase-plane will launch a sample trajectory originating from where you clicked. Below the phase-plane is a panel which will show time-series for all state variables for any sample trajectories you initiate. All around the edges are sliders for adjusting model parameters and adjusting what is displayed. The red vertical lines in sliders indicate the initial values.</font></div></p>\n",
    "\n",
    "<p><div style=\"text-align: justify\"><font size=\"4.5\" face=\"time roman\"> \n",
    "    For our simulation we set it to the limit-cycle regime.\n",
    "</font></div></p>"
   ]
  },
  {
   "cell_type": "code",
   "execution_count": null,
   "metadata": {},
   "outputs": [],
   "source": [
    "# Initialize the model\n",
    "g2d = models.Generic2dOscillator(a=np.array(1.7402))\n",
    "g2d"
   ]
  },
  {
   "cell_type": "markdown",
   "metadata": {},
   "source": [
    "- ## <font size=\"5\" face=\"arial\" color=\"black\">Coupling function</font></h3>\n",
    "\n",
    "<p><div style=\"text-align: justify\"><font size=\"4.5\" face=\"time roman\">It is a function that is used to join the local <b>Model</b> dynamics at distinct spatial locations over the connections described in <b>Connectivity</b>. Proper setting of the parameters for this function requires some knowledge of the properties of both the model being used and the structure through which it is connected. For our present purposes, we happen to know that for this configuration of parameters of TVB's <b>Generic2dOscillator</b> connected through TVB's default connectivity matrix, a linear function with a slope of 0.0075 is a reasonable thing to use.</font></div></p>"
   ]
  },
  {
   "cell_type": "code",
   "execution_count": null,
   "metadata": {},
   "outputs": [],
   "source": [
    "# Initialise a Coupling function.\n",
    "G = np.array(0.0075)\n",
    "con_coupling = coupling.Scaling(a=G)"
   ]
  },
  {
   "cell_type": "markdown",
   "metadata": {},
   "source": [
    "- ## <font size=\"5\" face=\"arial\" color=\"black\">Integrator</font></h3>"
   ]
  },
  {
   "cell_type": "markdown",
   "metadata": {},
   "source": [
    "<p><div style=\"text-align: justify\"><font size=\"4.5\" face=\"time roman\">Now that we have defined our structure and dynamics, we need to select an integration scheme. While TVB supports a number of schemes, for most purposes you should use either <b>HeunDeterministic</b> or <b>HeunStochastic</b></font></div></p> \n",
    "\n",
    "<p><div style=\"text-align: justify\"><font size=\"4.5\" face=\"time roman\">Note that the most important thing here is to use a step size that is small enough for the integration to be numerically stable.</font></div></p>\n"
   ]
  },
  {
   "cell_type": "code",
   "execution_count": null,
   "metadata": {},
   "outputs": [],
   "source": [
    "# Initialise an Integrator scheme.\n",
    "dt = 0.1                          # Integration step [ms]\n",
    "\n",
    "# We can use the deteministic integrator:\n",
    "# heunint = integrators.HeunDeterministic(dt=dt)\n",
    "\n",
    "# Or stochastic integrator:\n",
    "nsigma = 0.001                    # Standard deviation of the noise\n",
    "hiss = noise.Additive(nsig=np.array([nsigma, 0]))\n",
    "heunint = integrators.HeunStochastic(dt=dt, noise=hiss)"
   ]
  },
  {
   "cell_type": "markdown",
   "metadata": {},
   "source": [
    "- ## <font size=\"5\" face=\"arial\" color=\"black\">Monitors</font></h3>"
   ]
  },
  {
   "cell_type": "markdown",
   "metadata": {},
   "source": [
    "<p><div style=\"text-align: justify\"><font size=\"4.5\" face=\"time roman\">The last component we need to define are some Monitors. Although there are Monitors which apply a biophysical measurement process to the simulated neural activity, such as EEG, MEG, etc, here we will select two simple monitors just to show the idea:\n",
    "<pre></pre>\n",
    "\n",
    "<ul>\n",
    "<li>the <b>Raw</b> monitor takes no arguments and simply returns all the simulated data -- note: as a general rule, this monitor shouldn't be used for anything but very short simulations as the amount of data returned can become prohibitively large,</li>\n",
    "<li>the <b>TemporalAverage</b> monitor averages over a time window of length <i>period</i> returning one time point every <i>period</i> ms.</li></ul>\n",
    "</font></div></p>"
   ]
  },
  {
   "cell_type": "code",
   "execution_count": null,
   "metadata": {},
   "outputs": [],
   "source": [
    "# Initialise some Monitors with period in physical time.\n",
    "mon_raw = monitors.Raw()\n",
    "mon_tavg = monitors.TemporalAverage(period=1)    # 1000 Hz\n",
    "\n",
    "#Bundle them\n",
    "what_to_watch = (mon_raw, mon_tavg)"
   ]
  },
  {
   "cell_type": "markdown",
   "metadata": {},
   "source": [
    "***"
   ]
  },
  {
   "cell_type": "markdown",
   "metadata": {},
   "source": [
    "<h1 align=\"center\"><font size=\"6\"face=\"arial\" color=\"black\">Go! Simulate</font></h1>"
   ]
  },
  {
   "cell_type": "markdown",
   "metadata": {},
   "source": [
    "<p><div style=\"text-align: justify\"><font size=\"4.5\" face=\"time roman\">The last step is to bring all these components together into a <b>Simulator</b> object. We then need to run the configure method, which basically just acts to calculate information necessary for the simulation that draws on specific combinations of the components.</font></div></p>"
   ]
  },
  {
   "cell_type": "code",
   "execution_count": null,
   "metadata": {},
   "outputs": [],
   "source": [
    "# Initialise the Simulator.\n",
    "sim = simulator.Simulator(model=g2d,\n",
    "                          connectivity=conn,\n",
    "                          conduction_speed=np.float(conn.speed),\n",
    "                          coupling=con_coupling,\n",
    "                          integrator=heunint,\n",
    "                          monitors=what_to_watch)\n",
    "sim.configure()"
   ]
  },
  {
   "cell_type": "markdown",
   "metadata": {},
   "source": [
    "<p><div style=\"text-align: justify\"><font size=\"4.5\" face=\"time roman\">Now, we can run the simulation. All we need to do is iterate for some length, which we provide in <i>ms</i>, and collect the output:</p>"
   ]
  },
  {
   "cell_type": "code",
   "execution_count": null,
   "metadata": {},
   "outputs": [],
   "source": [
    "# Perform the simulation.\n",
    "tic = tm.time()\n",
    "\n",
    "(raw_time, raw_data), (tavg_time, tavg_data) = sim.run(simulation_length=10000.)\n",
    "\n",
    "'simulation required %0.3f seconds.' % (tm.time()-tic)"
   ]
  },
  {
   "cell_type": "markdown",
   "metadata": {},
   "source": [
    "<p><div style=\"text-align: justify\"><font size=\"4.5\" face=\"time roman\">\n",
    "    For each monitor, the simulation returns the time points and the associated data array.</p>\n",
    "<p>The data arrays have shapes \n",
    "    n<sub>timepoints</sub> x n<sub>variables of interest</sub> x n<sub>regions</sub> x n<sub>modes</sub>.\n",
    "</p>"
   ]
  },
  {
   "cell_type": "code",
   "execution_count": null,
   "metadata": {},
   "outputs": [],
   "source": [
    "raw_time.shape, raw_data.shape"
   ]
  },
  {
   "cell_type": "code",
   "execution_count": null,
   "metadata": {},
   "outputs": [],
   "source": [
    "# Remove the dimensions with one element for easier indexing\n",
    "raw = np.squeeze(np.array(raw_data))\n",
    "tavg = np.squeeze(np.array(tavg_data))\n",
    "raw.shape"
   ]
  },
  {
   "cell_type": "markdown",
   "metadata": {},
   "source": [
    "***"
   ]
  },
  {
   "cell_type": "markdown",
   "metadata": {},
   "source": [
    "<h1 align=\"center\"><font size=\"6\"face=\"arial\" color=\"black\">Visualize our simulation</font></h1>"
   ]
  },
  {
   "cell_type": "markdown",
   "metadata": {},
   "source": [
    "<p><div style=\"text-align: justify\"><font size=\"4.5\" face=\"time roman\">And finally, we can look at the results of our simulation in terms of time series.</font></div></p>\n",
    "\n",
    "<p><div style=\"text-align: justify\"><font size=\"4.5\" face=\"time roman\">The data returned by the simulator is in the form of a list of arrays. For most subsequent purposes it is much easier to deal with the data if it exists as a single contiguous array. And so we will do that now:</font></div></p>"
   ]
  },
  {
   "cell_type": "code",
   "execution_count": null,
   "metadata": {},
   "outputs": [],
   "source": [
    "# Normalize the time series for easier visualization\n",
    "nraw = raw / (np.max(raw, 0) - np.min(raw, 0))\n",
    "ntavg = tavg / (np.max(tavg, 0) - np.min(tavg, 0))"
   ]
  },
  {
   "cell_type": "code",
   "execution_count": null,
   "metadata": {
    "scrolled": false
   },
   "outputs": [],
   "source": [
    "# Plot the raw time series \n",
    "fig1 = plt.figure(figsize=(10,8))\n",
    "plt.plot(raw_time[:], nraw[:, :10] + np.r_[:10])\n",
    "plt.title('Raw Neuronal Activity', fontsize=20)\n",
    "plt.xlabel('Time [ms]', fontsize=20)\n",
    "plt.yticks(range(10), conn.region_labels, fontsize=10)\n",
    "\n",
    "# Plot the temporally averaged time series\n",
    "fig2 = plt.figure(figsize=(10,8))\n",
    "plt.plot(tavg_time[:], ntavg[:, :10] + np.r_[:10])\n",
    "plt.title('Temporally Averaged Neuronal Activity', fontsize=20)\n",
    "plt.xlabel('Time [ms]', fontsize=20)\n",
    "plt.yticks(range(10), conn.region_labels, fontsize=10)\n",
    "\n",
    "plt.show()"
   ]
  },
  {
   "cell_type": "markdown",
   "metadata": {},
   "source": [
    "<h1><font size=\"6\"face=\"arial\" color=\"black\"> 2. Analyse our simulation</font></h1>"
   ]
  },
  {
   "cell_type": "markdown",
   "metadata": {},
   "source": [
    "## <font size=\"5\" face=\"arial\" color=\"black\"> 2.1 Functional Connectivity (FC)</font>"
   ]
  },
  {
   "cell_type": "markdown",
   "metadata": {},
   "source": [
    "<p><div style=\"text-align: justify\"><font size=\"4.5\" face=\"time roman\"><b>Functional Connectivity (FC)</b> describes the connectedness of two brain regions by means of the covariance between their time series. The classic and most widely used method to infer the strength of network interactions or functional connections consists in estimating the linear (Pearson) correlation coefficient between temporal signals. If two regions activate and deactivate at the same time, there is likely a functional connection. The Pearson correlation coefficient between two series $X$ and $Y$ of size $N$ is given by the following equation:</font></div></p> \n",
    "\n",
    "\\begin{eqnarray}\n",
    "    Corr(X, Y) = \\dfrac{\\sum_{n=1}^{N}(X_{n} - \\bar{X})(Y_{n} - \\bar{Y})}{\\sqrt{\\sum_{n=1}^{N}(X_{n} - \\bar{X})^2}\\sqrt{\\sum_{n=1}^{N}(Y_{n} - \\bar{Y})^2}}\n",
    "\\end{eqnarray}"
   ]
  },
  {
   "cell_type": "markdown",
   "metadata": {},
   "source": [
    "<p><div style=\"text-align: justify\"><font size=\"4.5\" face=\"time roman\">\n",
    "    To calculate the FC, we ignore the first second of the simulation which might be affected by the initial conditions.\n",
    "</font></div></p>"
   ]
  },
  {
   "cell_type": "code",
   "execution_count": null,
   "metadata": {},
   "outputs": [],
   "source": [
    "fc = np.corrcoef(tavg[1000:].T)"
   ]
  },
  {
   "cell_type": "markdown",
   "metadata": {},
   "source": [
    "<p><div style=\"text-align: justify\"><font size=\"4.5\" face=\"time roman\">And now we display the resulting FC matrix:</font></div></p>"
   ]
  },
  {
   "cell_type": "code",
   "execution_count": null,
   "metadata": {},
   "outputs": [],
   "source": [
    "# Visualize FC matrix\n",
    "plt.figure(figsize=(8,8))\n",
    "plt.imshow(fc, interpolation='nearest', cmap='jet')\n",
    "plt.title('SIM FC', fontsize=20)\n",
    "plt.xlabel('ROIs', fontsize=20); plt.ylabel('ROIs', fontsize=20)\n",
    "plt.xticks([], fontsize=20); plt.yticks([], fontsize=20)\n",
    "cb = plt.colorbar(shrink=0.7)\n",
    "cb.set_label('PCC', fontsize=20)\n",
    "\n",
    "plt.show()"
   ]
  },
  {
   "cell_type": "markdown",
   "metadata": {},
   "source": [
    "- ## <font size=\"5\" face=\"arial\" color=\"black\"> SC - FC comparison</font></h3>"
   ]
  },
  {
   "cell_type": "markdown",
   "metadata": {},
   "source": [
    "<p><div style=\"text-align: justify\"><font size=\"4.5\" face=\"time roman\">We compare the empirical SC and simulated FC matrix by adopting as a measure of similarity between the two matrices the Pearson correlation between corresponding elements of the <b>upper (or lower)</b> triangular part of the matrices.</font></div></p>"
   ]
  },
  {
   "cell_type": "code",
   "execution_count": null,
   "metadata": {},
   "outputs": [],
   "source": [
    "# Take upper triangular part of the matrices (excluding the self-connections).\n",
    "sc_triu = sc[np.triu_indices(nregions, 1)]\n",
    "fc_triu = fc[np.triu_indices(nregions, 1)]\n",
    "\n",
    "# Compute Pearson correlation coefficients between SC and FC.\n",
    "pcc = np.corrcoef(sc_triu, fc_triu)[0, 1]\n",
    "pcc"
   ]
  },
  {
   "cell_type": "markdown",
   "metadata": {},
   "source": [
    "## <font size=\"5\" face=\"arial\" color=\"black\"> 2.2 Extract Resting-State Networks (RSNs)</font>\n",
    "\n",
    "<p><div style=\"text-align: justify\"><font size=\"4.5\" face=\"time roman\"> We will next study in more detail which features of the FC are explained by the model. For this, we will concentrate on seed-based correlation and principal components of the simulated FC.</font></div></p>"
   ]
  },
  {
   "cell_type": "markdown",
   "metadata": {},
   "source": [
    "<p><div style=\"text-align: justify\"><font size=\"4.5\" face=\"time roman\">For the final analysis and plotting done here we will need few more tools: package scikit-learn (from conda) and file utils.py (from the repository; it should be placed in the same directory from which the notebook is run). </font></div></p>"
   ]
  },
  {
   "cell_type": "code",
   "execution_count": null,
   "metadata": {},
   "outputs": [],
   "source": [
    "# ICA\n",
    "from sklearn.decomposition import FastICA\n",
    "\n",
    "# Brain maps\n",
    "import utils"
   ]
  },
  {
   "cell_type": "markdown",
   "metadata": {},
   "source": [
    "- ## <font size=\"5\" face=\"arial\" color=\"black\">Seed-region correlation maps</font></h3>"
   ]
  },
  {
   "cell_type": "markdown",
   "metadata": {},
   "source": [
    "<p><div style=\"text-align: justify\"><font size=\"4.5\" face=\"time roman\">A common visualization of FC specific to a given brain region is to pull out its row of the FC matrix and plot a colormap on the anatomy. We can do this with the simulated functional connectivity to identify which regions are highly coordinated with the seed region.</font></div></p>"
   ]
  },
  {
   "cell_type": "code",
   "execution_count": null,
   "metadata": {},
   "outputs": [],
   "source": [
    "def plot_roi_corr_map(reg_name):\n",
    "    roi = np.where(conn.ordered_labels == reg_name)[0]\n",
    "    cs_m = fc\n",
    "    rm = utils.cortex.region_mapping\n",
    "    utils.multiview(cs_m[roi, rm], shaded=False, suptitle=reg_name, figsize=(10, 8))"
   ]
  },
  {
   "cell_type": "markdown",
   "metadata": {},
   "source": [
    "<p><div style=\"text-align: justify\"><font size=\"4.5\" face=\"time roman\">As a few examples of such maps, we take the medial parietal cortex as seed which take part of the well-known default-mode network (RSN1), as well as the middle prefrontal cortex for the dorsal attentional network (RSN2), the primary visual cortex for the visual network (RSN3), and the superior temporal cortex for the auditory network (RSN4). The seed regions use here are all in the right hemisphere.</font></div></p>"
   ]
  },
  {
   "cell_type": "code",
   "execution_count": null,
   "metadata": {
    "scrolled": false
   },
   "outputs": [],
   "source": [
    "for reg in 'rPCM rPFCM rV2 rTCS'.split():\n",
    "    plot_roi_corr_map(reg)"
   ]
  },
  {
   "cell_type": "markdown",
   "metadata": {},
   "source": [
    "- ## <font size=\"5\" face=\"arial\" color=\"black\">Independent Component Analysis (ICA)</font></h3>"
   ]
  },
  {
   "cell_type": "markdown",
   "metadata": {},
   "source": [
    "<p><div style=\"text-align: justify\"><font size=\"4.5\" face=\"time roman\">Another common exploratory tool in resting-state data analysis, where the implicated regions or networks are not known a priori, is <b>Independent Component Analysis</b>, which extracts components with unique or independent statistical properties.</font></div></p>\n",
    "\n",
    "<p><div style=\"text-align: justify\"><font size=\"4.5\" face=\"time roman\">For example, we can perform an ICA keeping 3 components from the above simulated data:</font></div></p>"
   ]
  },
  {
   "cell_type": "code",
   "execution_count": null,
   "metadata": {},
   "outputs": [],
   "source": [
    "ica = FastICA(n_components=5, max_iter=1000, tol=0.01)\n",
    "ica.fit(tavg[1000:, :])"
   ]
  },
  {
   "cell_type": "markdown",
   "metadata": {},
   "source": [
    "<p><div style=\"text-align: justify\"><font size=\"4.5\" face=\"time roman\">And then, visualize the different components:</font></div></p>"
   ]
  },
  {
   "cell_type": "code",
   "execution_count": null,
   "metadata": {
    "scrolled": false
   },
   "outputs": [],
   "source": [
    "for i, comp in enumerate(ica.components_[:3]):\n",
    "    utils.multiview(comp[utils.cortex.region_mapping], shaded=False, \n",
    "                    suptitle='ICA %d' % (i, ), figsize=(10, 5))"
   ]
  },
  {
   "cell_type": "markdown",
   "metadata": {
    "collapsed": true
   },
   "source": [
    "<p><div style=\"text-align: justify\"><font size=\"4.5\" face=\"time roman\">These components are not selected 'by hand', but represent independent subnetworks during the simulated resting state activity.</font></div></p>\n",
    "\n",
    "<p><div style=\"text-align: justify\"><font size=\"4.5\" face=\"time roman\">Finally, we point out, that commonly ICA analyses of fMRI are done at a group level to identify spatial patterns which are reproducible across subjects, whereas in this application to this simulation, spatial components may reflect as much non-robust, spontaneous fluctuations of the network passing through various state as the dominant rest state networks identified in human rest state.</font></div></p>"
   ]
  },
  {
   "cell_type": "markdown",
   "metadata": {},
   "source": [
    "<h1><font size=\"6\" face=\"arial\" color=\"#609BC4\">That is all folks -- so, what now?</font></h1>\n",
    "\n",
    "***\n",
    "\n",
    "<p><div style=\"text-align: justify\"><font size=\"4.5\" face=\"time roman\">And that is it for this tutorial. These results are starting point, from which we can base our next simulations, going in directions such as:\n",
    "\n",
    "<br></br>\n",
    "<ul>\n",
    "<li>using our own connectivity data in TVB's scripting interface,</li>\n",
    "<li>perform a parameter sweep to identify regions of improved empirical and model FC correlations</li>\n",
    "<li>etc.</li>\n",
    "</ul>\n",
    "</font></div></p>\n",
    "\n",
    "<br></br>\n",
    "<p><div style=\"text-align: justify\"><font size=\"4.5\" face=\"time roman\">We hope this has been a useful tutorial and welcome any comments or questions.</font></div></p>"
   ]
  }
 ],
 "metadata": {
  "kernelspec": {
   "display_name": "Python 3",
   "language": "python",
   "name": "python3"
  },
  "language_info": {
   "codemirror_mode": {
    "name": "ipython",
    "version": 3
   },
   "file_extension": ".py",
   "mimetype": "text/x-python",
   "name": "python",
   "nbconvert_exporter": "python",
   "pygments_lexer": "ipython3",
   "version": "3.7.6"
  }
 },
 "nbformat": 4,
 "nbformat_minor": 2
}
